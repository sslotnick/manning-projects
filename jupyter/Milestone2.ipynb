{
 "cells": [
  {
   "cell_type": "markdown",
   "id": "143e24c1",
   "metadata": {
    "toc": true
   },
   "source": [
    "<h1>Table of Contents<span class=\"tocSkip\"></span></h1>\n",
    "<div class=\"toc\"><ul class=\"toc-item\"><li><span><a href=\"#Setup\" data-toc-modified-id=\"Setup-1\"><span class=\"toc-item-num\">1&nbsp;&nbsp;</span>Setup</a></span></li><li><span><a href=\"#Factorials\" data-toc-modified-id=\"Factorials-2\"><span class=\"toc-item-num\">2&nbsp;&nbsp;</span>Factorials</a></span></li><li><span><a href=\"#Embeds\" data-toc-modified-id=\"Embeds-3\"><span class=\"toc-item-num\">3&nbsp;&nbsp;</span>Embeds</a></span></li><li><span><a href=\"#Iterators\" data-toc-modified-id=\"Iterators-4\"><span class=\"toc-item-num\">4&nbsp;&nbsp;</span>Iterators</a></span></li><li><span><a href=\"#Markdown\" data-toc-modified-id=\"Markdown-5\"><span class=\"toc-item-num\">5&nbsp;&nbsp;</span>Markdown</a></span><ul class=\"toc-item\"><li><span><a href=\"#More-markdown\" data-toc-modified-id=\"More-markdown-5.1\"><span class=\"toc-item-num\">5.1&nbsp;&nbsp;</span>More markdown</a></span></li></ul></li></ul></div>"
   ]
  },
  {
   "cell_type": "markdown",
   "id": "ff5dae5c",
   "metadata": {},
   "source": [
    "# Setup"
   ]
  },
  {
   "cell_type": "code",
   "execution_count": 1,
   "id": "628d5385",
   "metadata": {},
   "outputs": [],
   "source": [
    "import nltk"
   ]
  },
  {
   "cell_type": "code",
   "execution_count": 2,
   "id": "6c961fca",
   "metadata": {},
   "outputs": [
    {
     "name": "stdout",
     "output_type": "stream",
     "text": [
      "Requirement already satisfied: numpy in ./.venv/lib/python3.8/site-packages (1.21.2)\n",
      "Note: you may need to restart the kernel to use updated packages.\n"
     ]
    }
   ],
   "source": [
    "pip install numpy"
   ]
  },
  {
   "cell_type": "code",
   "execution_count": 39,
   "id": "bad302c8",
   "metadata": {},
   "outputs": [
    {
     "data": {
      "text/latex": [
       "\\begin{align}\n",
       "a^2+b^2=c^2\n",
       "\\end{align}\n"
      ],
      "text/plain": [
       "<IPython.core.display.Latex object>"
      ]
     },
     "metadata": {},
     "output_type": "display_data"
    }
   ],
   "source": [
    "%%latex\n",
    "\\begin{align}\n",
    "a^2+b^2=c^2\n",
    "\\end{align}"
   ]
  },
  {
   "cell_type": "markdown",
   "id": "d65a01c2",
   "metadata": {},
   "source": [
    "# Factorials"
   ]
  },
  {
   "cell_type": "code",
   "execution_count": 2,
   "id": "5c9de6e3",
   "metadata": {},
   "outputs": [],
   "source": [
    "# def factorialA(n):\n",
    "#     val = 1\n",
    "#     for i in range(1, n + 1):\n",
    "#         val = i * val\n",
    "#     return val\n",
    "\n",
    "\n",
    "# def factorialB(n):\n",
    "#     if n == 1:\n",
    "#         return 1\n",
    "#     return factorialB(n - 1) * n"
   ]
  },
  {
   "cell_type": "code",
   "execution_count": 5,
   "id": "13d38ed0",
   "metadata": {},
   "outputs": [
    {
     "name": "stdout",
     "output_type": "stream",
     "text": [
      "8.53 µs ± 112 ns per loop (mean ± std. dev. of 7 runs, 100000 loops each)\n"
     ]
    }
   ],
   "source": [
    "%%timeit\n",
    "factorialA(100)"
   ]
  },
  {
   "cell_type": "code",
   "execution_count": 36,
   "id": "8ebe3801",
   "metadata": {},
   "outputs": [
    {
     "name": "stdout",
     "output_type": "stream",
     "text": [
      "17.9 µs ± 147 ns per loop (mean ± std. dev. of 7 runs, 100000 loops each)\n"
     ]
    }
   ],
   "source": [
    "%%timeit\n",
    "factorialB(100)"
   ]
  },
  {
   "cell_type": "markdown",
   "id": "da920a74",
   "metadata": {},
   "source": [
    "# Embeds"
   ]
  },
  {
   "cell_type": "code",
   "execution_count": 37,
   "id": "037e99a6",
   "metadata": {},
   "outputs": [
    {
     "data": {
      "text/html": [
       "<iframe width=\"560\" height=\"315\" src=\"https://www.youtube.com/embed/Y7uNT0alrKk\" title=\"YouTube video player\" frameborder=\"0\" allow=\"accelerometer; autoplay; clipboard-write; encrypted-media; gyroscope; picture-in-picture\" allowfullscreen></iframe>\n"
      ],
      "text/plain": [
       "<IPython.core.display.HTML object>"
      ]
     },
     "metadata": {},
     "output_type": "display_data"
    }
   ],
   "source": [
    "%%HTML\n",
    "<iframe width=\"560\" height=\"315\" src=\"https://www.youtube.com/embed/Y7uNT0alrKk\" title=\"YouTube video player\" frameborder=\"0\" allow=\"accelerometer; autoplay; clipboard-write; encrypted-media; gyroscope; picture-in-picture\" allowfullscreen></iframe>"
   ]
  },
  {
   "cell_type": "code",
   "execution_count": 6,
   "id": "e4750f45",
   "metadata": {},
   "outputs": [
    {
     "name": "stdout",
     "output_type": "stream",
     "text": [
      "Requirement already satisfied: jupyter_contrib_nbextensions in ./.venv/lib/python3.8/site-packages (0.5.1)\n",
      "Requirement already satisfied: lxml in ./.venv/lib/python3.8/site-packages (from jupyter_contrib_nbextensions) (4.6.3)\n",
      "Requirement already satisfied: jupyter-contrib-core>=0.3.3 in ./.venv/lib/python3.8/site-packages (from jupyter_contrib_nbextensions) (0.3.3)\n",
      "Requirement already satisfied: jupyter-nbextensions-configurator>=0.4.0 in ./.venv/lib/python3.8/site-packages (from jupyter_contrib_nbextensions) (0.4.1)\n",
      "Requirement already satisfied: jupyter-core in ./.venv/lib/python3.8/site-packages (from jupyter_contrib_nbextensions) (4.8.1)\n",
      "Requirement already satisfied: nbconvert>=4.2 in ./.venv/lib/python3.8/site-packages (from jupyter_contrib_nbextensions) (6.1.0)\n",
      "Requirement already satisfied: pyyaml in ./.venv/lib/python3.8/site-packages (from jupyter_contrib_nbextensions) (5.4.1)\n",
      "Requirement already satisfied: jupyter-latex-envs>=1.3.8 in ./.venv/lib/python3.8/site-packages (from jupyter_contrib_nbextensions) (1.4.6)\n",
      "Requirement already satisfied: ipython-genutils in ./.venv/lib/python3.8/site-packages (from jupyter_contrib_nbextensions) (0.2.0)\n",
      "Requirement already satisfied: traitlets>=4.1 in ./.venv/lib/python3.8/site-packages (from jupyter_contrib_nbextensions) (5.1.0)\n",
      "Requirement already satisfied: notebook>=4.0 in ./.venv/lib/python3.8/site-packages (from jupyter_contrib_nbextensions) (6.4.4)\n",
      "Requirement already satisfied: tornado in ./.venv/lib/python3.8/site-packages (from jupyter_contrib_nbextensions) (6.1)\n",
      "Requirement already satisfied: jupyter-highlight-selected-word>=0.1.1 in ./.venv/lib/python3.8/site-packages (from jupyter_contrib_nbextensions) (0.2.0)\n",
      "Requirement already satisfied: setuptools in ./.venv/lib/python3.8/site-packages (from jupyter-contrib-core>=0.3.3->jupyter_contrib_nbextensions) (49.2.1)\n",
      "Requirement already satisfied: ipython in ./.venv/lib/python3.8/site-packages (from jupyter-latex-envs>=1.3.8->jupyter_contrib_nbextensions) (7.27.0)\n",
      "Requirement already satisfied: entrypoints>=0.2.2 in ./.venv/lib/python3.8/site-packages (from nbconvert>=4.2->jupyter_contrib_nbextensions) (0.3)\n",
      "Requirement already satisfied: nbclient<0.6.0,>=0.5.0 in ./.venv/lib/python3.8/site-packages (from nbconvert>=4.2->jupyter_contrib_nbextensions) (0.5.4)\n",
      "Requirement already satisfied: pygments>=2.4.1 in ./.venv/lib/python3.8/site-packages (from nbconvert>=4.2->jupyter_contrib_nbextensions) (2.10.0)\n",
      "Requirement already satisfied: bleach in ./.venv/lib/python3.8/site-packages (from nbconvert>=4.2->jupyter_contrib_nbextensions) (4.1.0)\n",
      "Requirement already satisfied: pandocfilters>=1.4.1 in ./.venv/lib/python3.8/site-packages (from nbconvert>=4.2->jupyter_contrib_nbextensions) (1.5.0)\n",
      "Requirement already satisfied: testpath in ./.venv/lib/python3.8/site-packages (from nbconvert>=4.2->jupyter_contrib_nbextensions) (0.5.0)\n",
      "Requirement already satisfied: jinja2>=2.4 in ./.venv/lib/python3.8/site-packages (from nbconvert>=4.2->jupyter_contrib_nbextensions) (3.0.1)\n",
      "Requirement already satisfied: defusedxml in ./.venv/lib/python3.8/site-packages (from nbconvert>=4.2->jupyter_contrib_nbextensions) (0.7.1)\n",
      "Requirement already satisfied: jupyterlab-pygments in ./.venv/lib/python3.8/site-packages (from nbconvert>=4.2->jupyter_contrib_nbextensions) (0.1.2)\n",
      "Requirement already satisfied: nbformat>=4.4 in ./.venv/lib/python3.8/site-packages (from nbconvert>=4.2->jupyter_contrib_nbextensions) (5.1.3)\n",
      "Requirement already satisfied: mistune<2,>=0.8.1 in ./.venv/lib/python3.8/site-packages (from nbconvert>=4.2->jupyter_contrib_nbextensions) (0.8.4)\n",
      "Requirement already satisfied: MarkupSafe>=2.0 in ./.venv/lib/python3.8/site-packages (from jinja2>=2.4->nbconvert>=4.2->jupyter_contrib_nbextensions) (2.0.1)\n",
      "Requirement already satisfied: jupyter-client>=6.1.5 in ./.venv/lib/python3.8/site-packages (from nbclient<0.6.0,>=0.5.0->nbconvert>=4.2->jupyter_contrib_nbextensions) (7.0.3)\n",
      "Requirement already satisfied: nest-asyncio in ./.venv/lib/python3.8/site-packages (from nbclient<0.6.0,>=0.5.0->nbconvert>=4.2->jupyter_contrib_nbextensions) (1.5.1)\n",
      "Requirement already satisfied: pyzmq>=13 in ./.venv/lib/python3.8/site-packages (from jupyter-client>=6.1.5->nbclient<0.6.0,>=0.5.0->nbconvert>=4.2->jupyter_contrib_nbextensions) (22.3.0)\n",
      "Requirement already satisfied: python-dateutil>=2.1 in ./.venv/lib/python3.8/site-packages (from jupyter-client>=6.1.5->nbclient<0.6.0,>=0.5.0->nbconvert>=4.2->jupyter_contrib_nbextensions) (2.8.2)\n",
      "Requirement already satisfied: jsonschema!=2.5.0,>=2.4 in ./.venv/lib/python3.8/site-packages (from nbformat>=4.4->nbconvert>=4.2->jupyter_contrib_nbextensions) (3.2.0)\n",
      "Requirement already satisfied: pyrsistent>=0.14.0 in ./.venv/lib/python3.8/site-packages (from jsonschema!=2.5.0,>=2.4->nbformat>=4.4->nbconvert>=4.2->jupyter_contrib_nbextensions) (0.18.0)\n",
      "Requirement already satisfied: six>=1.11.0 in ./.venv/lib/python3.8/site-packages (from jsonschema!=2.5.0,>=2.4->nbformat>=4.4->nbconvert>=4.2->jupyter_contrib_nbextensions) (1.16.0)\n",
      "Requirement already satisfied: attrs>=17.4.0 in ./.venv/lib/python3.8/site-packages (from jsonschema!=2.5.0,>=2.4->nbformat>=4.4->nbconvert>=4.2->jupyter_contrib_nbextensions) (21.2.0)\n",
      "Requirement already satisfied: argon2-cffi in ./.venv/lib/python3.8/site-packages (from notebook>=4.0->jupyter_contrib_nbextensions) (21.1.0)\n",
      "Requirement already satisfied: Send2Trash>=1.5.0 in ./.venv/lib/python3.8/site-packages (from notebook>=4.0->jupyter_contrib_nbextensions) (1.8.0)\n",
      "Requirement already satisfied: ipykernel in ./.venv/lib/python3.8/site-packages (from notebook>=4.0->jupyter_contrib_nbextensions) (6.4.1)\n",
      "Requirement already satisfied: terminado>=0.8.3 in ./.venv/lib/python3.8/site-packages (from notebook>=4.0->jupyter_contrib_nbextensions) (0.12.1)\n",
      "Requirement already satisfied: prometheus-client in ./.venv/lib/python3.8/site-packages (from notebook>=4.0->jupyter_contrib_nbextensions) (0.11.0)\n",
      "Requirement already satisfied: ptyprocess in ./.venv/lib/python3.8/site-packages (from terminado>=0.8.3->notebook>=4.0->jupyter_contrib_nbextensions) (0.7.0)\n",
      "Requirement already satisfied: cffi>=1.0.0 in ./.venv/lib/python3.8/site-packages (from argon2-cffi->notebook>=4.0->jupyter_contrib_nbextensions) (1.14.6)\n",
      "Requirement already satisfied: pycparser in ./.venv/lib/python3.8/site-packages (from cffi>=1.0.0->argon2-cffi->notebook>=4.0->jupyter_contrib_nbextensions) (2.20)\n",
      "Requirement already satisfied: packaging in ./.venv/lib/python3.8/site-packages (from bleach->nbconvert>=4.2->jupyter_contrib_nbextensions) (21.0)\n",
      "Requirement already satisfied: webencodings in ./.venv/lib/python3.8/site-packages (from bleach->nbconvert>=4.2->jupyter_contrib_nbextensions) (0.5.1)\n",
      "Requirement already satisfied: debugpy<2.0,>=1.0.0 in ./.venv/lib/python3.8/site-packages (from ipykernel->notebook>=4.0->jupyter_contrib_nbextensions) (1.4.3)\n",
      "Requirement already satisfied: matplotlib-inline<0.2.0,>=0.1.0 in ./.venv/lib/python3.8/site-packages (from ipykernel->notebook>=4.0->jupyter_contrib_nbextensions) (0.1.3)\n",
      "Requirement already satisfied: appnope in ./.venv/lib/python3.8/site-packages (from ipykernel->notebook>=4.0->jupyter_contrib_nbextensions) (0.1.2)\n",
      "Requirement already satisfied: jedi>=0.16 in ./.venv/lib/python3.8/site-packages (from ipython->jupyter-latex-envs>=1.3.8->jupyter_contrib_nbextensions) (0.18.0)\n",
      "Requirement already satisfied: pickleshare in ./.venv/lib/python3.8/site-packages (from ipython->jupyter-latex-envs>=1.3.8->jupyter_contrib_nbextensions) (0.7.5)\n",
      "Requirement already satisfied: decorator in ./.venv/lib/python3.8/site-packages (from ipython->jupyter-latex-envs>=1.3.8->jupyter_contrib_nbextensions) (5.1.0)\n",
      "Requirement already satisfied: pexpect>4.3 in ./.venv/lib/python3.8/site-packages (from ipython->jupyter-latex-envs>=1.3.8->jupyter_contrib_nbextensions) (4.8.0)\n",
      "Requirement already satisfied: prompt-toolkit!=3.0.0,!=3.0.1,<3.1.0,>=2.0.0 in ./.venv/lib/python3.8/site-packages (from ipython->jupyter-latex-envs>=1.3.8->jupyter_contrib_nbextensions) (3.0.20)\n",
      "Requirement already satisfied: backcall in ./.venv/lib/python3.8/site-packages (from ipython->jupyter-latex-envs>=1.3.8->jupyter_contrib_nbextensions) (0.2.0)\n"
     ]
    },
    {
     "name": "stdout",
     "output_type": "stream",
     "text": [
      "Requirement already satisfied: parso<0.9.0,>=0.8.0 in ./.venv/lib/python3.8/site-packages (from jedi>=0.16->ipython->jupyter-latex-envs>=1.3.8->jupyter_contrib_nbextensions) (0.8.2)\n",
      "Requirement already satisfied: wcwidth in ./.venv/lib/python3.8/site-packages (from prompt-toolkit!=3.0.0,!=3.0.1,<3.1.0,>=2.0.0->ipython->jupyter-latex-envs>=1.3.8->jupyter_contrib_nbextensions) (0.2.5)\n",
      "Requirement already satisfied: pyparsing>=2.0.2 in ./.venv/lib/python3.8/site-packages (from packaging->bleach->nbconvert>=4.2->jupyter_contrib_nbextensions) (2.4.7)\n",
      "Note: you may need to restart the kernel to use updated packages.\n"
     ]
    }
   ],
   "source": [
    "pip install jupyter_contrib_nbextensions"
   ]
  },
  {
   "cell_type": "code",
   "execution_count": 1,
   "id": "dc5e4b0e",
   "metadata": {},
   "outputs": [
    {
     "name": "stdout",
     "output_type": "stream",
     "text": [
      "Requirement already satisfied: jupyter_nbextensions_configurator in ./.venv/lib/python3.8/site-packages (0.4.1)\n",
      "Requirement already satisfied: jupyter_contrib_core>=0.3.3 in ./.venv/lib/python3.8/site-packages (from jupyter_nbextensions_configurator) (0.3.3)\n",
      "Requirement already satisfied: jupyter_core in ./.venv/lib/python3.8/site-packages (from jupyter_nbextensions_configurator) (4.8.1)\n",
      "Requirement already satisfied: notebook>=4.0 in ./.venv/lib/python3.8/site-packages (from jupyter_nbextensions_configurator) (6.4.4)\n",
      "Requirement already satisfied: pyyaml in ./.venv/lib/python3.8/site-packages (from jupyter_nbextensions_configurator) (5.4.1)\n",
      "Requirement already satisfied: tornado in ./.venv/lib/python3.8/site-packages (from jupyter_nbextensions_configurator) (6.1)\n",
      "Requirement already satisfied: traitlets in ./.venv/lib/python3.8/site-packages (from jupyter_nbextensions_configurator) (5.1.0)\n",
      "Requirement already satisfied: setuptools in ./.venv/lib/python3.8/site-packages (from jupyter_contrib_core>=0.3.3->jupyter_nbextensions_configurator) (49.2.1)\n",
      "Requirement already satisfied: Send2Trash>=1.5.0 in ./.venv/lib/python3.8/site-packages (from notebook>=4.0->jupyter_nbextensions_configurator) (1.8.0)\n",
      "Requirement already satisfied: ipython-genutils in ./.venv/lib/python3.8/site-packages (from notebook>=4.0->jupyter_nbextensions_configurator) (0.2.0)\n",
      "Requirement already satisfied: nbconvert in ./.venv/lib/python3.8/site-packages (from notebook>=4.0->jupyter_nbextensions_configurator) (6.1.0)\n",
      "Requirement already satisfied: prometheus-client in ./.venv/lib/python3.8/site-packages (from notebook>=4.0->jupyter_nbextensions_configurator) (0.11.0)\n",
      "Requirement already satisfied: ipykernel in ./.venv/lib/python3.8/site-packages (from notebook>=4.0->jupyter_nbextensions_configurator) (6.4.1)\n",
      "Requirement already satisfied: terminado>=0.8.3 in ./.venv/lib/python3.8/site-packages (from notebook>=4.0->jupyter_nbextensions_configurator) (0.12.1)\n",
      "Requirement already satisfied: nbformat in ./.venv/lib/python3.8/site-packages (from notebook>=4.0->jupyter_nbextensions_configurator) (5.1.3)\n",
      "Requirement already satisfied: pyzmq>=17 in ./.venv/lib/python3.8/site-packages (from notebook>=4.0->jupyter_nbextensions_configurator) (22.3.0)\n",
      "Requirement already satisfied: jupyter-client>=5.3.4 in ./.venv/lib/python3.8/site-packages (from notebook>=4.0->jupyter_nbextensions_configurator) (7.0.3)\n",
      "Requirement already satisfied: argon2-cffi in ./.venv/lib/python3.8/site-packages (from notebook>=4.0->jupyter_nbextensions_configurator) (21.1.0)\n",
      "Requirement already satisfied: jinja2 in ./.venv/lib/python3.8/site-packages (from notebook>=4.0->jupyter_nbextensions_configurator) (3.0.1)\n",
      "Requirement already satisfied: entrypoints in ./.venv/lib/python3.8/site-packages (from jupyter-client>=5.3.4->notebook>=4.0->jupyter_nbextensions_configurator) (0.3)\n",
      "Requirement already satisfied: python-dateutil>=2.1 in ./.venv/lib/python3.8/site-packages (from jupyter-client>=5.3.4->notebook>=4.0->jupyter_nbextensions_configurator) (2.8.2)\n",
      "Requirement already satisfied: nest-asyncio>=1.5 in ./.venv/lib/python3.8/site-packages (from jupyter-client>=5.3.4->notebook>=4.0->jupyter_nbextensions_configurator) (1.5.1)\n",
      "Requirement already satisfied: six>=1.5 in ./.venv/lib/python3.8/site-packages (from python-dateutil>=2.1->jupyter-client>=5.3.4->notebook>=4.0->jupyter_nbextensions_configurator) (1.16.0)\n",
      "Requirement already satisfied: ptyprocess in ./.venv/lib/python3.8/site-packages (from terminado>=0.8.3->notebook>=4.0->jupyter_nbextensions_configurator) (0.7.0)\n",
      "Requirement already satisfied: cffi>=1.0.0 in ./.venv/lib/python3.8/site-packages (from argon2-cffi->notebook>=4.0->jupyter_nbextensions_configurator) (1.14.6)\n",
      "Requirement already satisfied: pycparser in ./.venv/lib/python3.8/site-packages (from cffi>=1.0.0->argon2-cffi->notebook>=4.0->jupyter_nbextensions_configurator) (2.20)\n",
      "Requirement already satisfied: ipython<8.0,>=7.23.1 in ./.venv/lib/python3.8/site-packages (from ipykernel->notebook>=4.0->jupyter_nbextensions_configurator) (7.27.0)\n",
      "Requirement already satisfied: appnope in ./.venv/lib/python3.8/site-packages (from ipykernel->notebook>=4.0->jupyter_nbextensions_configurator) (0.1.2)\n",
      "Requirement already satisfied: matplotlib-inline<0.2.0,>=0.1.0 in ./.venv/lib/python3.8/site-packages (from ipykernel->notebook>=4.0->jupyter_nbextensions_configurator) (0.1.3)\n",
      "Requirement already satisfied: debugpy<2.0,>=1.0.0 in ./.venv/lib/python3.8/site-packages (from ipykernel->notebook>=4.0->jupyter_nbextensions_configurator) (1.4.3)\n",
      "Requirement already satisfied: decorator in ./.venv/lib/python3.8/site-packages (from ipython<8.0,>=7.23.1->ipykernel->notebook>=4.0->jupyter_nbextensions_configurator) (5.1.0)\n",
      "Requirement already satisfied: prompt-toolkit!=3.0.0,!=3.0.1,<3.1.0,>=2.0.0 in ./.venv/lib/python3.8/site-packages (from ipython<8.0,>=7.23.1->ipykernel->notebook>=4.0->jupyter_nbextensions_configurator) (3.0.20)\n",
      "Requirement already satisfied: pygments in ./.venv/lib/python3.8/site-packages (from ipython<8.0,>=7.23.1->ipykernel->notebook>=4.0->jupyter_nbextensions_configurator) (2.10.0)\n",
      "Requirement already satisfied: pickleshare in ./.venv/lib/python3.8/site-packages (from ipython<8.0,>=7.23.1->ipykernel->notebook>=4.0->jupyter_nbextensions_configurator) (0.7.5)\n",
      "Requirement already satisfied: jedi>=0.16 in ./.venv/lib/python3.8/site-packages (from ipython<8.0,>=7.23.1->ipykernel->notebook>=4.0->jupyter_nbextensions_configurator) (0.18.0)\n",
      "Requirement already satisfied: pexpect>4.3 in ./.venv/lib/python3.8/site-packages (from ipython<8.0,>=7.23.1->ipykernel->notebook>=4.0->jupyter_nbextensions_configurator) (4.8.0)\n",
      "Requirement already satisfied: backcall in ./.venv/lib/python3.8/site-packages (from ipython<8.0,>=7.23.1->ipykernel->notebook>=4.0->jupyter_nbextensions_configurator) (0.2.0)\n",
      "Requirement already satisfied: parso<0.9.0,>=0.8.0 in ./.venv/lib/python3.8/site-packages (from jedi>=0.16->ipython<8.0,>=7.23.1->ipykernel->notebook>=4.0->jupyter_nbextensions_configurator) (0.8.2)\n",
      "Requirement already satisfied: wcwidth in ./.venv/lib/python3.8/site-packages (from prompt-toolkit!=3.0.0,!=3.0.1,<3.1.0,>=2.0.0->ipython<8.0,>=7.23.1->ipykernel->notebook>=4.0->jupyter_nbextensions_configurator) (0.2.5)\n",
      "Requirement already satisfied: MarkupSafe>=2.0 in ./.venv/lib/python3.8/site-packages (from jinja2->notebook>=4.0->jupyter_nbextensions_configurator) (2.0.1)\n",
      "Requirement already satisfied: jupyterlab-pygments in ./.venv/lib/python3.8/site-packages (from nbconvert->notebook>=4.0->jupyter_nbextensions_configurator) (0.1.2)\n",
      "Requirement already satisfied: bleach in ./.venv/lib/python3.8/site-packages (from nbconvert->notebook>=4.0->jupyter_nbextensions_configurator) (4.1.0)\n",
      "Requirement already satisfied: nbclient<0.6.0,>=0.5.0 in ./.venv/lib/python3.8/site-packages (from nbconvert->notebook>=4.0->jupyter_nbextensions_configurator) (0.5.4)\n",
      "Requirement already satisfied: defusedxml in ./.venv/lib/python3.8/site-packages (from nbconvert->notebook>=4.0->jupyter_nbextensions_configurator) (0.7.1)\n",
      "Requirement already satisfied: testpath in ./.venv/lib/python3.8/site-packages (from nbconvert->notebook>=4.0->jupyter_nbextensions_configurator) (0.5.0)\n",
      "Requirement already satisfied: mistune<2,>=0.8.1 in ./.venv/lib/python3.8/site-packages (from nbconvert->notebook>=4.0->jupyter_nbextensions_configurator) (0.8.4)\n",
      "Requirement already satisfied: pandocfilters>=1.4.1 in ./.venv/lib/python3.8/site-packages (from nbconvert->notebook>=4.0->jupyter_nbextensions_configurator) (1.5.0)\n",
      "Requirement already satisfied: jsonschema!=2.5.0,>=2.4 in ./.venv/lib/python3.8/site-packages (from nbformat->notebook>=4.0->jupyter_nbextensions_configurator) (3.2.0)\n",
      "Requirement already satisfied: pyrsistent>=0.14.0 in ./.venv/lib/python3.8/site-packages (from jsonschema!=2.5.0,>=2.4->nbformat->notebook>=4.0->jupyter_nbextensions_configurator) (0.18.0)\n",
      "Requirement already satisfied: attrs>=17.4.0 in ./.venv/lib/python3.8/site-packages (from jsonschema!=2.5.0,>=2.4->nbformat->notebook>=4.0->jupyter_nbextensions_configurator) (21.2.0)\n",
      "Requirement already satisfied: webencodings in ./.venv/lib/python3.8/site-packages (from bleach->nbconvert->notebook>=4.0->jupyter_nbextensions_configurator) (0.5.1)\n",
      "Requirement already satisfied: packaging in ./.venv/lib/python3.8/site-packages (from bleach->nbconvert->notebook>=4.0->jupyter_nbextensions_configurator) (21.0)\n"
     ]
    },
    {
     "name": "stdout",
     "output_type": "stream",
     "text": [
      "Requirement already satisfied: pyparsing>=2.0.2 in ./.venv/lib/python3.8/site-packages (from packaging->bleach->nbconvert->notebook>=4.0->jupyter_nbextensions_configurator) (2.4.7)\n",
      "Note: you may need to restart the kernel to use updated packages.\n"
     ]
    }
   ],
   "source": [
    "pip install jupyter_nbextensions_configurator"
   ]
  },
  {
   "cell_type": "markdown",
   "id": "4745786f",
   "metadata": {},
   "source": [
    "# Iterators"
   ]
  },
  {
   "cell_type": "code",
   "execution_count": 41,
   "id": "80464fd1",
   "metadata": {},
   "outputs": [],
   "source": [
    "def their_combinations(iterable, r):\n",
    "    # combinations('ABCD', 2) --> AB AC AD BC BD CD\n",
    "    # combinations(range(4), 3) --> 012 013 023 123\n",
    "    pool = tuple(iterable)\n",
    "    n = len(pool)\n",
    "    if r > n:\n",
    "        return\n",
    "    indices = list(range(r))\n",
    "    yield tuple(pool[i] for i in indices)\n",
    "    while True:\n",
    "        for i in reversed(range(r)):\n",
    "            if indices[i] != i + n - r:\n",
    "                break\n",
    "        else:\n",
    "            return\n",
    "        indices[i] += 1\n",
    "        for j in range(i + 1, r):\n",
    "            indices[j] = indices[j - 1] + 1\n",
    "        yield tuple(pool[i] for i in indices)"
   ]
  },
  {
   "cell_type": "code",
   "execution_count": 40,
   "id": "47ec21d3",
   "metadata": {},
   "outputs": [],
   "source": [
    "def combinations(iterable, r):\n",
    "    sz = len(iterable)\n",
    "    max = 2 ** sz\n",
    "    chars = list(iterable)\n",
    "    num = 0\n",
    "    for i in range(max):\n",
    "        this = \"\"\n",
    "        for n in range(sz):\n",
    "            if i & (1 << n):\n",
    "                this += iterable[n]\n",
    "        if len(this) == r:\n",
    "            num += 1"
   ]
  },
  {
   "cell_type": "code",
   "execution_count": 34,
   "id": "135276ff",
   "metadata": {},
   "outputs": [
    {
     "name": "stdout",
     "output_type": "stream",
     "text": [
      "296 ns ± 4.39 ns per loop (mean ± std. dev. of 7 runs, 1000000 loops each)\n"
     ]
    }
   ],
   "source": [
    "%%timeit\n",
    "their_combinations(\"abcdefhi\", 4)"
   ]
  },
  {
   "cell_type": "code",
   "execution_count": 37,
   "id": "be8f3e7d",
   "metadata": {},
   "outputs": [
    {
     "name": "stdout",
     "output_type": "stream",
     "text": [
      "417 µs ± 3 µs per loop (mean ± std. dev. of 7 runs, 1000 loops each)\n"
     ]
    }
   ],
   "source": [
    "%%timeit\n",
    "combinations(\"abcdefhi\", 4)"
   ]
  },
  {
   "cell_type": "markdown",
   "id": "f4898fdc",
   "metadata": {},
   "source": [
    "# Markdown\n",
    "\n",
    "\\begin{align}\n",
    "a^2+b^2=c^2\n",
    "\\end{align}\n",
    "\n",
    "## More markdown"
   ]
  }
 ],
 "metadata": {
  "kernelspec": {
   "display_name": ".venv",
   "language": "python",
   "name": ".venv"
  },
  "language_info": {
   "codemirror_mode": {
    "name": "ipython",
    "version": 3
   },
   "file_extension": ".py",
   "mimetype": "text/x-python",
   "name": "python",
   "nbconvert_exporter": "python",
   "pygments_lexer": "ipython3",
   "version": "3.8.6"
  },
  "toc": {
   "base_numbering": 1,
   "nav_menu": {},
   "number_sections": true,
   "sideBar": true,
   "skip_h1_title": false,
   "title_cell": "Table of Contents",
   "title_sidebar": "Contents",
   "toc_cell": true,
   "toc_position": {
    "height": "calc(100% - 180px)",
    "left": "10px",
    "top": "150px",
    "width": "490.8px"
   },
   "toc_section_display": true,
   "toc_window_display": false
  }
 },
 "nbformat": 4,
 "nbformat_minor": 5
}
